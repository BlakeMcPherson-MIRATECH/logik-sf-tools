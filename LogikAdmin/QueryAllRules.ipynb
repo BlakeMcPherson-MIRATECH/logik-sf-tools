{
 "cells": [
  {
   "cell_type": "code",
   "execution_count": 28,
   "metadata": {},
   "outputs": [],
   "source": [
    "import os\n",
    "import requests\n",
    "from dotenv import load_dotenv\n",
    "import csv\n",
    "\n",
    "load_dotenv()\n",
    "\n",
    "tenant = 'miratech'\n",
    "sector = \"test\"\n",
    "# 'test' = UAT\n",
    "# 'prod01' = PROD\n",
    "# 'test02 = DEV\n",
    "blueprint_name = \"productConfigurator40\"\n",
    "rule_name = \"kBFieldsObjectGenerator\"\n",
    "\n",
    "api_key = os.getenv(\"LOGIK_DEV_IO_API_KEY\")\n",
    "\n",
    "if not api_key:\n",
    "    raise ValueError(\"API key not found. Please check your environment variables.\")"
   ]
  },
  {
   "cell_type": "code",
   "execution_count": 29,
   "metadata": {},
   "outputs": [],
   "source": [
    "def build_url(sector, endpoint):\n",
    "    base_url = f\"https://{tenant}.{sector}.logik.io\"\n",
    "    return f\"{base_url}{endpoint}\"\n",
    "\n",
    "def make_api_request(url, api_key):\n",
    "    headers = {\n",
    "        \"accept\": \"application/json\",\n",
    "        \"Authorization\": f\"Bearer {api_key}\"\n",
    "    }\n",
    "    response = requests.get(url, headers=headers)\n",
    "    if response.status_code == 200:\n",
    "        return response.json()\n",
    "    else:\n",
    "        print(f\"Error: {response.status_code} - {response.text}\")\n",
    "        return None\n",
    "\n",
    "all_rules = []\n",
    "page = 0\n",
    "page_size = 100\n",
    "\n",
    "while True:\n",
    "    endpoint = f\"/api/admin/v2/blueprints/{blueprint_name}/rules?page={page}&size={page_size}&sort=modified%2CDESC\"\n",
    "    url = build_url(sector, endpoint)\n",
    "    rules_list = make_api_request(url, api_key)\n",
    "    if rules_list and \"content\" in rules_list and rules_list[\"content\"]:\n",
    "        all_rules.extend(rules_list[\"content\"])\n",
    "        page += 1\n",
    "    else:\n",
    "        break"
   ]
  },
  {
   "cell_type": "code",
   "execution_count": null,
   "metadata": {},
   "outputs": [
    {
     "name": "stdout",
     "output_type": "stream",
     "text": [
      "Exported filtered rules to productConfigurator40_rules_export.csv\n"
     ]
    }
   ],
   "source": [
    "if all_rules:\n",
    "    csv_filename = f\"{blueprint_name}_rules_export.csv\"\n",
    "    with open(csv_filename, mode='w', newline='', encoding='utf-8') as file:\n",
    "        writer = csv.DictWriter(file, fieldnames=[\"Name\", \"Variable Name\", \"Status\", \"Action Summary\"])\n",
    "        writer.writeheader()\n",
    "        for rule in all_rules:\n",
    "            if rule.get(\"status\") == \"active\" and (\"standardSelectionRunningFilters\" in rule.get(\"variableName\", \"\")\n",
    "                                                   or \"product40CalculateCostAdder\" in rule.get(\"variableName\", \"\")\n",
    "                                                   or \"product40RequiredFieldsMissing\" in rule.get(\"variableName\", \"\")\n",
    "                                                   or \"standardSelectionConfigProductReqFieldMsg\" in rule.get(\"variableName\", \"\")\n",
    "                                                   or \"product40ACCHide\" in rule.get(\"variableName\", \"\")):\n",
    "                writer.writerow({\n",
    "                    \"Name\": rule.get(\"name\"),\n",
    "                    \"Variable Name\": rule.get(\"variableName\"),\n",
    "                    \"Status\": rule.get(\"status\"),\n",
    "                    \"Action Summary\": rule.get(\"actionSummary\")\n",
    "                })\n",
    "    print(f\"Exported filtered rules to {csv_filename}\")\n",
    "else:\n",
    "    print(\"No rules found.\")\n"
   ]
  }
 ],
 "metadata": {
  "kernelspec": {
   "display_name": "Python 3",
   "language": "python",
   "name": "python3"
  },
  "language_info": {
   "codemirror_mode": {
    "name": "ipython",
    "version": 3
   },
   "file_extension": ".py",
   "mimetype": "text/x-python",
   "name": "python",
   "nbconvert_exporter": "python",
   "pygments_lexer": "ipython3",
   "version": "3.12.5"
  }
 },
 "nbformat": 4,
 "nbformat_minor": 2
}
