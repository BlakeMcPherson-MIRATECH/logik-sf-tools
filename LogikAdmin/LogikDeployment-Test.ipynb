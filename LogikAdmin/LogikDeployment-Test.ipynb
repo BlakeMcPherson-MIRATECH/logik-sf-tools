{
 "cells": [
  {
   "cell_type": "code",
   "execution_count": null,
   "id": "6c711ad9",
   "metadata": {},
   "outputs": [
    {
     "name": "stdout",
     "output_type": "stream",
     "text": [
      "ZVBkFDQQ1VgPRd0d7Cjr-SN3zVtyiriRuQ\n"
     ]
    }
   ],
   "source": [
    "import os\n",
    "import requests\n",
    "from dotenv import load_dotenv\n",
    "import csv\n",
    "\n",
    "load_dotenv()\n",
    "\n",
    "envs = {\n",
    "    \"DEV\": {\n",
    "        \"tenant\": \"miratech-sandbox02\",\n",
    "        \"sector\": \"test\"\n",
    "    },\n",
    "    \"UAT\": {\n",
    "        \"tenant\": \"miratech\",\n",
    "        \"sector\": \"test02\"\n",
    "    },\n",
    "    \"PROD\": {\n",
    "        \"tenant\": \"miratech\",\n",
    "        \"sector\": \"prod01\"\n",
    "    }\n",
    "}\n",
    "\n",
    "\n",
    "blueprint_name = \"productConfigurator40\"\n",
    "endpoint = '/api/admin/v1/fields'\n",
    "\n",
    "api_key = os.getenv(\"LOGIK_DEV_IO_API_KEY\")\n",
    "print(api_key)\n",
    "if not api_key:\n",
    "    raise ValueError(\"API key not found. Please check your environment variables.\")"
   ]
  },
  {
   "cell_type": "code",
   "execution_count": 7,
   "id": "d4b6f28b",
   "metadata": {},
   "outputs": [],
   "source": [
    "def build_url(tenant, sector, endpoint):\n",
    "    return f\"https://{tenant}.{sector}.logik.io{endpoint}\"\n"
   ]
  },
  {
   "cell_type": "code",
   "execution_count": 9,
   "id": "72bd9efe",
   "metadata": {},
   "outputs": [
    {
     "name": "stdout",
     "output_type": "stream",
     "text": [
      "Status: 500\n",
      "Response: {'errorMessage': 'An unexpected error occurred.', 'timestamp': '2025-04-21T14:10:36.637956642Z'}\n"
     ]
    }
   ],
   "source": [
    "\n",
    "env = envs[\"DEV\"]  # or \"UAT\", \"PROD\"\n",
    "tenant = env[\"tenant\"]\n",
    "sector = env[\"sector\"]\n",
    "\n",
    "endpoint = \"/api/admin/v1/fields\"\n",
    "url = build_url(tenant, sector, endpoint)\n",
    "\n",
    "headers = {\n",
    "    'Content-Type': 'application/json',\n",
    "    'Accept': 'application/json',\n",
    "    'Authorization': f'Bearer {api_key}'\n",
    "}\n",
    "\n",
    "body = {\n",
    "    \"type\": \"string\",  # or \"Picklist\", etc.\n",
    "    \"name\": \"Blake Test Field Creation\",\n",
    "    \"variableName\": \"blakeTestFieldCreation\",\n",
    "    \"required\": False\n",
    "}\n",
    "\n",
    "response = requests.post(\n",
    "    url,\n",
    "    headers=headers,\n",
    "    json=body\n",
    ")\n",
    "\n",
    "print(\"Status:\", response.status_code)\n",
    "print(\"Response:\", response.json())\n"
   ]
  }
 ],
 "metadata": {
  "kernelspec": {
   "display_name": "Python 3",
   "language": "python",
   "name": "python3"
  },
  "language_info": {
   "codemirror_mode": {
    "name": "ipython",
    "version": 3
   },
   "file_extension": ".py",
   "mimetype": "text/x-python",
   "name": "python",
   "nbconvert_exporter": "python",
   "pygments_lexer": "ipython3",
   "version": "3.12.5"
  }
 },
 "nbformat": 4,
 "nbformat_minor": 5
}
