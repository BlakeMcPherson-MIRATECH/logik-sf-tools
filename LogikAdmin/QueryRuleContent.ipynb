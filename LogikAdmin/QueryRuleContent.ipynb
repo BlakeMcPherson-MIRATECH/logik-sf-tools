{
 "cells": [
  {
   "cell_type": "code",
   "execution_count": null,
   "metadata": {},
   "outputs": [
    {
     "name": "stdout",
     "output_type": "stream",
     "text": [
      "ZVBkFDQQ1VgPRd0d7Cjr-SN3zVtyiriRuQ\n"
     ]
    }
   ],
   "source": [
    "import os\n",
    "import requests\n",
    "from dotenv import load_dotenv\n",
    "\n",
    "load_dotenv()\n",
    "\n",
    "tenant = 'miratech'\n",
    "sector = \"test\"   # 'test', 'prod01', 'test02.\n",
    "blueprint_name = \"productConfigurator40\"\n",
    "rule_name = \"kBFieldsObjectGenerator\"\n",
    "\n",
    "api_key = os.getenv(\"LOGIK_DEV_IO_API_KEY\")\n",
    "api_key = \"ZVBkFDQQ1VgPRd0d7Cjr-SN3zVtyiriRuQ\"\n",
    "print(api_key)\n",
    "if not api_key:\n",
    "    raise ValueError(\"API key not found. Please check your environment variables.\")"
   ]
  },
  {
   "cell_type": "code",
   "execution_count": 32,
   "metadata": {},
   "outputs": [
    {
     "name": "stdout",
     "output_type": "stream",
     "text": [
      "Rule Details:\n",
      "{'created': '2025-01-27T15:12:40.928555Z', 'modified': '2025-01-27T15:12:40.928555Z', 'id': 392, 'name': 'kB Fields Object Generator (ACTIVE)', 'variableName': 'kBFieldsObjectGenerator', 'description': 'Create a JSON Object for the kB API required fields', 'status': 'active', 'condition': {'groupingType': 'all', 'customLogic': None, 'scriptId': None, 'conditions': [{'created': '2025-01-27T15:12:40.929306Z', 'modified': '2025-01-27T15:12:40.929306Z', 'id': 718, 'index': 1, 'op': 'equals', 'lhs': {'field': True, 'dataType': 'boolean', 'value': ['kBObjectDebug'], 'scope': 'CFG'}, 'rhs': {'field': False, 'dataType': 'boolean', 'value': ['false']}}]}, 'actions': [{'type': 'Determination', 'created': '2025-01-27T15:12:40.928917Z', 'modified': '2025-01-27T15:12:40.928917Z', 'id': 1692, 'fieldVariableName': 'kbJSONobject', 'scriptId': 833, 'variableName': 'kBFieldsObjectGenerator_action_1', 'values': [], 'setReadOnly': True, 'overrideUserInput': True, 'showMessage': False, 'unionWithCurrentValue': False, 'clearValue': False}], 'lastModifiedBy': 'bmcpherson@miratechcorp.com.dev', 'scope': 'CFG', 'entityIdentifier': 'CFG#kBFieldsObjectGenerator', 'ruleGroups': []}\n"
     ]
    }
   ],
   "source": [
    "def build_url(sector, endpoint):\n",
    "    base_url = f\"https://{tenant}.{sector}.logik.io\"\n",
    "    return f\"{base_url}{endpoint}\"\n",
    "\n",
    "def make_api_request(url, api_key):\n",
    "    headers = {\n",
    "        \"accept\": \"application/json\",\n",
    "        \"Authorization\": f\"Bearer {api_key}\"\n",
    "    }\n",
    "    response = requests.get(url, headers=headers)\n",
    "    if response.status_code == 200:\n",
    "        return response.json()\n",
    "    else:\n",
    "        print(f\"Error: {response.status_code} - {response.text}\")\n",
    "        return None\n",
    "\n",
    "\n",
    "endpoint = f\"/api/admin/v3/rules/{rule_name}?blueprintName={blueprint_name}\"\n",
    "url = build_url(sector, endpoint)\n",
    "\n",
    "rule_details = make_api_request(url, api_key)\n",
    "\n",
    "if rule_details:\n",
    "    print(\"Rule Details:\")\n",
    "    print(rule_details)"
   ]
  }
 ],
 "metadata": {
  "kernelspec": {
   "display_name": "Python 3",
   "language": "python",
   "name": "python3"
  },
  "language_info": {
   "codemirror_mode": {
    "name": "ipython",
    "version": 3
   },
   "file_extension": ".py",
   "mimetype": "text/x-python",
   "name": "python",
   "nbconvert_exporter": "python",
   "pygments_lexer": "ipython3",
   "version": "3.12.5"
  }
 },
 "nbformat": 4,
 "nbformat_minor": 2
}
